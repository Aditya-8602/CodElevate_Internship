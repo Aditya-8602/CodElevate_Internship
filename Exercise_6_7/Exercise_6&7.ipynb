{
 "cells": [
  {
   "cell_type": "code",
   "execution_count": 1,
   "id": "aa32e5e1-fedf-4872-a600-ed030ccd11f4",
   "metadata": {},
   "outputs": [
    {
     "name": "stdout",
     "output_type": "stream",
     "text": [
      "Updated List: [10, 20, 35, 40, 50]\n",
      "Length of List: 5\n"
     ]
    }
   ],
   "source": [
    "# Q1. Creation of list and changing value of any one element, also display the length of list.\n",
    "\n",
    "my_list = [10, 20, 30, 40, 50]\n",
    "my_list[2] = 35\n",
    "print(\"Updated List:\", my_list)\n",
    "print(\"Length of List:\", len(my_list))\n"
   ]
  },
  {
   "cell_type": "code",
   "execution_count": 5,
   "id": "0d3863bd-f963-4c5c-bd5f-0f03a4db8d92",
   "metadata": {},
   "outputs": [
    {
     "name": "stdout",
     "output_type": "stream",
     "text": [
      "List: ['mango', 'banana']\n",
      "After append: ['mango', 'banana', 'cherry', 'orange']\n"
     ]
    }
   ],
   "source": [
    "# Q2. Create a list and append two elements in it.\n",
    "\n",
    "a_list = [\"mango\", \"banana\"]\n",
    "print(\"List:\", a_list)\n",
    "\n",
    "a_list.append(\"cherry\")\n",
    "a_list.append(\"orange\")\n",
    "print(\"After append:\", a_list)"
   ]
  },
  {
   "cell_type": "code",
   "execution_count": 7,
   "id": "dd8f475c-1442-481f-ba27-8cc3c43365c3",
   "metadata": {},
   "outputs": [
    {
     "name": "stdout",
     "output_type": "stream",
     "text": [
      "Number List: [5, 3, 8, 1, 9, 10, 2, 7, 6, 0, 4]\n",
      "Sorted List: [0, 1, 2, 3, 4, 5, 6, 7, 8, 9, 10]\n"
     ]
    }
   ],
   "source": [
    "# Q3. Create a list and sort it.\n",
    "\n",
    "numbers = [5, 3, 8, 1, 9, 10, 2, 7, 6, 0, 4]\n",
    "print(\"Number List:\", numbers)\n",
    "numbers.sort()\n",
    "print(\"Sorted List:\", numbers)"
   ]
  },
  {
   "cell_type": "code",
   "execution_count": 3,
   "id": "56c0049f-f324-4981-af37-2164e2f4f536",
   "metadata": {},
   "outputs": [
    {
     "name": "stdout",
     "output_type": "stream",
     "text": [
      "Sum of elements: 100\n"
     ]
    }
   ],
   "source": [
    "# Q4. Create a list of numbers and print sum of all the elements.\n",
    "num = [10, 20, 30, 40]\n",
    "print(\"Sum of elements:\", sum(num))"
   ]
  },
  {
   "cell_type": "code",
   "execution_count": 7,
   "id": "8f431e5d-e244-4412-a70c-3060d86ce357",
   "metadata": {},
   "outputs": [
    {
     "name": "stdin",
     "output_type": "stream",
     "text": [
      "Enter first list:  1 2 3 4\n",
      "Enter second list:  1 2 3 4\n"
     ]
    },
    {
     "name": "stdout",
     "output_type": "stream",
     "text": [
      "Equal or Not:  True\n"
     ]
    }
   ],
   "source": [
    "# Q5. Program to compare elements of list.\n",
    "list1 = input(\"Enter first list: \").split()\n",
    "list2 = input(\"Enter second list: \").split()\n",
    "print(\"Equal or Not: \", list1 == list2)"
   ]
  },
  {
   "cell_type": "code",
   "execution_count": 9,
   "id": "3e4db2b1-e9e1-4484-8a08-436686066938",
   "metadata": {},
   "outputs": [
    {
     "name": "stdin",
     "output_type": "stream",
     "text": [
      "Enter numbers:  23 54 7 21 56 9 34\n"
     ]
    },
    {
     "name": "stdout",
     "output_type": "stream",
     "text": [
      "Maximum: 56\n",
      "Minimum: 7\n"
     ]
    }
   ],
   "source": [
    "# Q6. Program to find maximum and minimum of list.\n",
    "\n",
    "b_list = input(\"Enter numbers: \").split()\n",
    "b_list = list(map(int, b_list))\n",
    "print(\"Maximum:\", max(b_list))\n",
    "print(\"Minimum:\", min(b_list))"
   ]
  },
  {
   "cell_type": "code",
   "execution_count": 11,
   "id": "c2033450-6963-49a2-b18b-eaf678190366",
   "metadata": {},
   "outputs": [
    {
     "name": "stdout",
     "output_type": "stream",
     "text": [
      "Count of 2: 3\n"
     ]
    }
   ],
   "source": [
    "# Q7. Count the occurrence of element in list.\n",
    "\n",
    "c_list = [1, 2, 3, 2, 4, 2, 5]\n",
    "print(\"Count of 2:\", c_list.count(2))"
   ]
  },
  {
   "cell_type": "code",
   "execution_count": 13,
   "id": "b6276d42-1013-41da-be92-72fd7c36e4cc",
   "metadata": {},
   "outputs": [
    {
     "name": "stdin",
     "output_type": "stream",
     "text": [
      "Enter elements:  1 2 3 4 5\n"
     ]
    },
    {
     "name": "stdout",
     "output_type": "stream",
     "text": [
      "Reversed list: ['5', '4', '3', '2', '1']\n"
     ]
    }
   ],
   "source": [
    "# Q8. Reverse a list.\n",
    "\n",
    "lst = input(\"Enter elements: \").split()\n",
    "rev_list = lst[::-1]\n",
    "print(\"Reversed list:\", rev_list)"
   ]
  },
  {
   "cell_type": "code",
   "execution_count": 17,
   "id": "27e1cf81-79b2-4019-a3f2-c580860db766",
   "metadata": {},
   "outputs": [
    {
     "name": "stdin",
     "output_type": "stream",
     "text": [
      "Enter list elements separated by space:  apple mango orange banana\n"
     ]
    },
    {
     "name": "stdout",
     "output_type": "stream",
     "text": [
      "Length of each element:\n",
      "Length of 'apple': 5\n",
      "Length of 'mango': 5\n",
      "Length of 'orange': 6\n",
      "Length of 'banana': 6\n",
      "Now trying len() on an integer:\n"
     ]
    },
    {
     "name": "stdin",
     "output_type": "stream",
     "text": [
      "Enter an integer:  23 56 13 78\n"
     ]
    },
    {
     "ename": "ValueError",
     "evalue": "invalid literal for int() with base 10: '23 56 13 78'",
     "output_type": "error",
     "traceback": [
      "\u001b[1;31m---------------------------------------------------------------------------\u001b[0m",
      "\u001b[1;31mValueError\u001b[0m                                Traceback (most recent call last)",
      "Cell \u001b[1;32mIn[17], line 12\u001b[0m\n\u001b[0;32m     10\u001b[0m \u001b[38;5;66;03m# what happens if len() is used on an integer\u001b[39;00m\n\u001b[0;32m     11\u001b[0m \u001b[38;5;28mprint\u001b[39m(\u001b[38;5;124m\"\u001b[39m\u001b[38;5;124mNow trying len() on an integer:\u001b[39m\u001b[38;5;124m\"\u001b[39m)\n\u001b[1;32m---> 12\u001b[0m num \u001b[38;5;241m=\u001b[39m \u001b[38;5;28mint\u001b[39m(\u001b[38;5;28minput\u001b[39m(\u001b[38;5;124m\"\u001b[39m\u001b[38;5;124mEnter an integer: \u001b[39m\u001b[38;5;124m\"\u001b[39m))\n\u001b[0;32m     14\u001b[0m \u001b[38;5;28;01mtry\u001b[39;00m:\n\u001b[0;32m     15\u001b[0m     \u001b[38;5;28mprint\u001b[39m(\u001b[38;5;28mlen\u001b[39m(num))  \u001b[38;5;66;03m# this will raise an error\u001b[39;00m\n",
      "\u001b[1;31mValueError\u001b[0m: invalid literal for int() with base 10: '23 56 13 78'"
     ]
    }
   ],
   "source": [
    "# Q9. Write a loop that traverses the previous list and prints the length of each element. What happens if you send an integer to len?\n",
    "# take user input as strings\n",
    "lst2 = input(\"Enter list elements separated by space: \").split()\n",
    "\n",
    "# traverse and print the length of each element\n",
    "print(\"Length of each element:\")\n",
    "for item in lst2:\n",
    "    print(f\"Length of '{item}':\", len(item))\n",
    "\n",
    "# what happens if len() is used on an integer\n",
    "print(\"Now trying len() on an integer:\")\n",
    "num = int(input(\"Enter an integer: \"))\n",
    "\n",
    "try:\n",
    "    print(len(num))  # this will raise an error\n",
    "except TypeError as e:\n",
    "    print(\"Error:\", e)"
   ]
  },
  {
   "cell_type": "code",
   "execution_count": null,
   "id": "5f718c27-277d-4ff1-bb32-38014cb6920e",
   "metadata": {},
   "outputs": [],
   "source": []
  }
 ],
 "metadata": {
  "kernelspec": {
   "display_name": "Python 3 (ipykernel)",
   "language": "python",
   "name": "python3"
  },
  "language_info": {
   "codemirror_mode": {
    "name": "ipython",
    "version": 3
   },
   "file_extension": ".py",
   "mimetype": "text/x-python",
   "name": "python",
   "nbconvert_exporter": "python",
   "pygments_lexer": "ipython3",
   "version": "3.11.7"
  }
 },
 "nbformat": 4,
 "nbformat_minor": 5
}
