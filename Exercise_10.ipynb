{
 "cells": [
  {
   "cell_type": "code",
   "execution_count": 1,
   "id": "a2d61104-9691-4169-ac46-fb0371d7008d",
   "metadata": {},
   "outputs": [
    {
     "name": "stdin",
     "output_type": "stream",
     "text": [
      "Enter student name:  Aditya Uparkar\n",
      "Enter age:  22\n",
      "Enter grade:  A\n"
     ]
    },
    {
     "name": "stdout",
     "output_type": "stream",
     "text": [
      "Student Info: Aditya Uparkar 22 A\n"
     ]
    }
   ],
   "source": [
    "#1. Write a Program to create a class by name Students, and initialize attributes like name, age, and grade while creating an object.\n",
    "class Students:\n",
    "    def __init__(self, name, age, grade):\n",
    "        self.name = name\n",
    "        self.age = age\n",
    "        self.grade = grade\n",
    "\n",
    "name = input(\"Enter student name: \")\n",
    "age = int(input(\"Enter age: \"))\n",
    "grade = input(\"Enter grade: \")\n",
    "\n",
    "student = Students(name, age, grade)\n",
    "\n",
    "print(\"Student Info:\", student.name, student.age, student.grade)"
   ]
  },
  {
   "cell_type": "code",
   "execution_count": 3,
   "id": "4faae610-e6f6-45b1-adf8-6494d09bd601",
   "metadata": {},
   "outputs": [
    {
     "name": "stdout",
     "output_type": "stream",
     "text": [
      "Teacher Info: Nikhil sir IT Engineering Java\n"
     ]
    }
   ],
   "source": [
    "#2. Write a program, to create a child class Teacher that will inherit the properties of Parent class Staff.\n",
    "class Staff:\n",
    "    def __init__(self, name, dept):\n",
    "        self.name = name\n",
    "        self.dept = dept\n",
    "\n",
    "class Teacher(Staff):\n",
    "    def __init__(self, name, dept, subject):\n",
    "        super().__init__(name, dept)\n",
    "        self.subject = subject\n",
    "\n",
    "teacher = Teacher(\"Nikhil sir\", \"IT Engineering\", \"Java\")\n",
    "\n",
    "print(\"Teacher Info:\", teacher.name, teacher.dept, teacher.subject)"
   ]
  },
  {
   "cell_type": "code",
   "execution_count": 7,
   "id": "18436a02-bfe1-42c3-a3b2-975e72dc233c",
   "metadata": {},
   "outputs": [
    {
     "name": "stdout",
     "output_type": "stream",
     "text": [
      "Writable attributes: {'name': 'SBI Stock', 'value': 100}\n"
     ]
    }
   ],
   "source": [
    "#3. Write a Program, to create class and using the class instance print all the writable attributes of that object.\n",
    "class Sample:\n",
    "    def __init__(self):\n",
    "        self.name = \"SBI Stock\"\n",
    "        self.value = 100\n",
    "\n",
    "obj = Sample()\n",
    "\n",
    "print(\"Writable attributes:\", obj.__dict__)"
   ]
  },
  {
   "cell_type": "code",
   "execution_count": 17,
   "id": "c5df1b23-e712-4b79-a779-1fbba4ed32e9",
   "metadata": {},
   "outputs": [
    {
     "name": "stdin",
     "output_type": "stream",
     "text": [
      "Enter teacher name:  Nikhil sir\n",
      "Enter age:  28\n",
      "Enter salary:  80000\n"
     ]
    },
    {
     "name": "stdout",
     "output_type": "stream",
     "text": [
      "Name: Nikhil sir\n",
      "Age: 28\n",
      "Salary: 80000.0\n"
     ]
    }
   ],
   "source": [
    "#4. Create a class Teacher with name, age, and salary attributes, where salary must be a private attribute that cannot be accessed outside the class.\n",
    "class Teacher:\n",
    "    def __init__(self, name, age, salary):\n",
    "        self.name = name\n",
    "        self.age = age\n",
    "        self.__salary = salary  # private attribute\n",
    "\n",
    "    def display(self):\n",
    "        print(\"Name:\", self.name)\n",
    "        print(\"Age:\", self.age)\n",
    "        print(\"Salary:\", self.__salary)\n",
    "\n",
    "name = input(\"Enter teacher name: \")\n",
    "age = int(input(\"Enter age: \"))\n",
    "salary = float(input(\"Enter salary: \"))\n",
    "\n",
    "t = Teacher(name, age, salary)\n",
    "t.display()\n",
    "\n",
    "# trying to access private attribute outside class will give error:\n",
    "# print(t.__salary)  # Uncommenting this line will cause AttributeError"
   ]
  },
  {
   "cell_type": "code",
   "execution_count": 11,
   "id": "5789ecd1-9f4f-49ba-8b88-6671e4f7793c",
   "metadata": {},
   "outputs": [
    {
     "name": "stdout",
     "output_type": "stream",
     "text": [
      "Combined Volume: 30\n",
      "Box2 is bigger or equal\n"
     ]
    }
   ],
   "source": [
    "#5. Write a Python program that overloads the operator + and > for a custom class.\n",
    "class Box:\n",
    "    def __init__(self, volume):\n",
    "        self.volume = volume\n",
    "\n",
    "    def __add__(self, other):\n",
    "        return Box(self.volume + other.volume)\n",
    "\n",
    "    def __gt__(self, other):\n",
    "        return self.volume > other.volume\n",
    "\n",
    "box1 = Box(10)\n",
    "box2 = Box(20)\n",
    "\n",
    "box3 = box1 + box2\n",
    "print(\"Combined Volume:\", box3.volume)\n",
    "\n",
    "if box1 > box2:\n",
    "    print(\"Box1 is bigger\")\n",
    "else:\n",
    "    print(\"Box2 is bigger or equal\")"
   ]
  },
  {
   "cell_type": "code",
   "execution_count": 15,
   "id": "604147c3-9b5b-40bc-8895-e0dac325e664",
   "metadata": {},
   "outputs": [
    {
     "name": "stdin",
     "output_type": "stream",
     "text": [
      "Enter the side of square:  5\n"
     ]
    },
    {
     "name": "stdout",
     "output_type": "stream",
     "text": [
      "Area: 25.0\n",
      "Perimeter: 20.0\n"
     ]
    }
   ],
   "source": [
    "#6. Write a Python class Square, and define two methods that return the square area and perimeter.\n",
    "class Square:\n",
    "    def __init__(self, side):\n",
    "        self.side = side\n",
    "\n",
    "    def area(self):\n",
    "        return self.side * self.side\n",
    "\n",
    "    def perimeter(self):\n",
    "        return 4 * self.side\n",
    "\n",
    "side = float(input(\"Enter the side of square: \"))\n",
    "s = Square(side)\n",
    "\n",
    "print(\"Area:\", s.area())\n",
    "print(\"Perimeter:\", s.perimeter())"
   ]
  },
  {
   "cell_type": "code",
   "execution_count": null,
   "id": "db1b721d-f0c9-439a-bc90-d915d51432fc",
   "metadata": {},
   "outputs": [],
   "source": []
  },
  {
   "cell_type": "code",
   "execution_count": null,
   "id": "0f3d6316-d834-4cb8-b8c2-04dd7f472fc4",
   "metadata": {},
   "outputs": [],
   "source": []
  }
 ],
 "metadata": {
  "kernelspec": {
   "display_name": "Python 3 (ipykernel)",
   "language": "python",
   "name": "python3"
  },
  "language_info": {
   "codemirror_mode": {
    "name": "ipython",
    "version": 3
   },
   "file_extension": ".py",
   "mimetype": "text/x-python",
   "name": "python",
   "nbconvert_exporter": "python",
   "pygments_lexer": "ipython3",
   "version": "3.11.7"
  }
 },
 "nbformat": 4,
 "nbformat_minor": 5
}
