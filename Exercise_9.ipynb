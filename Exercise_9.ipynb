{
 "cells": [
  {
   "cell_type": "code",
   "execution_count": 1,
   "id": "d804a146-f11f-4699-9492-05e25e0e09d7",
   "metadata": {},
   "outputs": [
    {
     "name": "stdin",
     "output_type": "stream",
     "text": [
      "Enter the base:  5\n",
      "Enter the exponent:  2\n"
     ]
    },
    {
     "name": "stdout",
     "output_type": "stream",
     "text": [
      "5.0 raised to the power 2.0 is: 25.0\n"
     ]
    }
   ],
   "source": [
    "#1. Python program to find the power of a number using exponential operator available in python.\n",
    "base = float(input(\"Enter the base: \"))\n",
    "exponent = float(input(\"Enter the exponent: \"))\n",
    "result = base ** exponent\n",
    "print(f\"{base} raised to the power {exponent} is: {result}\")"
   ]
  },
  {
   "cell_type": "code",
   "execution_count": 15,
   "id": "2d8683d6-12b1-4901-8b57-1cb59dbdd810",
   "metadata": {},
   "outputs": [
    {
     "name": "stdin",
     "output_type": "stream",
     "text": [
      "Enter a number:  8\n"
     ]
    },
    {
     "name": "stdout",
     "output_type": "stream",
     "text": [
      "Great\n"
     ]
    }
   ],
   "source": [
    "#2. Python program to check whether a given number is a Fibonacci number or not if it is Fibonacci then print “Great” otherwise oops, “it’s wrong”.\n",
    "num = int(input(\"Enter a number: \"))\n",
    "\n",
    "a, b = 0, 1\n",
    "found = False\n",
    "\n",
    "while b <= num:\n",
    "    if b == num:\n",
    "        found = True\n",
    "        break\n",
    "    a, b = b, a + b\n",
    "\n",
    "if found or num == 0:\n",
    "    print(\"Great\")\n",
    "else:\n",
    "    print(\"Oops, it's wrong\")"
   ]
  },
  {
   "cell_type": "code",
   "execution_count": 19,
   "id": "98e59919-1412-427b-801e-561d68a264f8",
   "metadata": {},
   "outputs": [
    {
     "name": "stdin",
     "output_type": "stream",
     "text": [
      "Enter a number:  9\n"
     ]
    },
    {
     "name": "stdout",
     "output_type": "stream",
     "text": [
      "YES, IT IS\n"
     ]
    }
   ],
   "source": [
    "#3. Check whether the binary representation of a given number is a palindrome or not in if it is palindrome then print “YES, IT IS” otherwise print “NO”.’\n",
    "num = int(input(\"Enter a number: \"))\n",
    "binary = bin(num)[2:]\n",
    "if binary == binary[::-1]:\n",
    "    print(\"YES, IT IS\")\n",
    "else:\n",
    "    print(\"NO\")"
   ]
  },
  {
   "cell_type": "code",
   "execution_count": 9,
   "id": "b2eb24c7-365d-485e-aa75-424e0ba4f849",
   "metadata": {},
   "outputs": [
    {
     "name": "stdin",
     "output_type": "stream",
     "text": [
      "Enter the value of N:  30\n"
     ]
    },
    {
     "name": "stdout",
     "output_type": "stream",
     "text": [
      "Numbers from 1 to 30 that contain 0: 3\n"
     ]
    }
   ],
   "source": [
    "#4. Find the number of integers from 1 to N which contains digits Zeros(0’s).\n",
    "N = int(input(\"Enter the value of N: \"))\n",
    "count = 0\n",
    "for i in range(1, N+1):\n",
    "    if '0' in str(i):\n",
    "        count += 1\n",
    "print(\"Numbers from 1 to\", N, \"that contain 0:\", count)"
   ]
  },
  {
   "cell_type": "code",
   "execution_count": 11,
   "id": "cb756ef1-0b19-4555-bf7f-7b968fb6ab66",
   "metadata": {},
   "outputs": [
    {
     "name": "stdout",
     "output_type": "stream",
     "text": [
      "Sum of all numbers below 1000 that are multiples of 2 or 4: 249500\n"
     ]
    }
   ],
   "source": [
    "#5. Find the sum of all numbers below 1000 which are multiples of 2 or 4.\n",
    "total = sum(i for i in range(1, 1000) if i % 2 == 0 or i % 4 == 0)\n",
    "print(\"Sum of all numbers below 1000 that are multiples of 2 or 4:\", total)"
   ]
  },
  {
   "cell_type": "code",
   "execution_count": null,
   "id": "19779c4b-d28f-4ae9-a947-213403f3ec12",
   "metadata": {},
   "outputs": [],
   "source": []
  },
  {
   "cell_type": "code",
   "execution_count": null,
   "id": "ef076446-0192-465f-9aa7-4a585861ffd9",
   "metadata": {},
   "outputs": [],
   "source": []
  }
 ],
 "metadata": {
  "kernelspec": {
   "display_name": "Python 3 (ipykernel)",
   "language": "python",
   "name": "python3"
  },
  "language_info": {
   "codemirror_mode": {
    "name": "ipython",
    "version": 3
   },
   "file_extension": ".py",
   "mimetype": "text/x-python",
   "name": "python",
   "nbconvert_exporter": "python",
   "pygments_lexer": "ipython3",
   "version": "3.11.7"
  }
 },
 "nbformat": 4,
 "nbformat_minor": 5
}
