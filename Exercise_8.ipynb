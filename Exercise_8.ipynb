{
 "cells": [
  {
   "cell_type": "code",
   "execution_count": 3,
   "id": "24d19144-3ffa-4afa-8c1d-f9a0a66534fc",
   "metadata": {},
   "outputs": [
    {
     "name": "stdin",
     "output_type": "stream",
     "text": [
      "Enter tuple elements:  c a d b f e g\n"
     ]
    },
    {
     "name": "stdout",
     "output_type": "stream",
     "text": [
      "Sorted tuple: ('a', 'b', 'c', 'd', 'e', 'f', 'g')\n"
     ]
    }
   ],
   "source": [
    "#1. Create a tuple and sort it.\n",
    "t1 = tuple(input(\"Enter tuple elements: \").split())\n",
    "sort_t1 = tuple(sorted(t1))  \n",
    "print(\"Sorted tuple:\", sort_t1)"
   ]
  },
  {
   "cell_type": "code",
   "execution_count": 5,
   "id": "f6c9e8aa-222d-407e-8e8b-3eb5f379aa49",
   "metadata": {},
   "outputs": [
    {
     "name": "stdin",
     "output_type": "stream",
     "text": [
      "Enter numbers:  4 2 6 4 8\n"
     ]
    },
    {
     "name": "stdout",
     "output_type": "stream",
     "text": [
      "Sum of tuple elements: 24\n"
     ]
    }
   ],
   "source": [
    "#2. Create a tuple of numbers and print sum of all the elements.\n",
    "t2 = tuple(map(int, input(\"Enter numbers: \").split()))\n",
    "print(\"Sum of tuple elements:\", sum(t2))"
   ]
  },
  {
   "cell_type": "code",
   "execution_count": 7,
   "id": "f0c5aa17-78df-4b9e-9e6f-9d0f6814f132",
   "metadata": {},
   "outputs": [
    {
     "name": "stdin",
     "output_type": "stream",
     "text": [
      "Enter numbers:  34 6 89 4 67 23 8\n"
     ]
    },
    {
     "name": "stdout",
     "output_type": "stream",
     "text": [
      "Maximum element in tuple: 89\n",
      "Minimum element in tuple: 4\n"
     ]
    }
   ],
   "source": [
    "#3. Program to find maximum and minimum of tuple.\n",
    "t3 = tuple(map(int, input(\"Enter numbers: \").split()))\n",
    "print(\"Maximum element in tuple:\", max(t3))\n",
    "print(\"Minimum element in tuple:\", min(t3))"
   ]
  },
  {
   "cell_type": "code",
   "execution_count": 19,
   "id": "d9aff084-5650-4afb-986c-ced67c7f6c41",
   "metadata": {},
   "outputs": [
    {
     "name": "stdin",
     "output_type": "stream",
     "text": [
      "Enter the element to count:  apple\n",
      "Enter start index:  0\n",
      "Enter end index:  6\n"
     ]
    },
    {
     "name": "stdout",
     "output_type": "stream",
     "text": [
      "Count of 'apple' from index 0 to 6 is: 3\n"
     ]
    }
   ],
   "source": [
    "#4. Count the occurrence of element in tuple in a specific range.\n",
    "t = ('apple', 'banana', 'cherry', 'apple', 'banana', 'apple')\n",
    "\n",
    "# input element to count\n",
    "element = input(\"Enter the element to count: \")\n",
    "\n",
    "# input range \n",
    "start = int(input(\"Enter start index: \"))\n",
    "end = int(input(\"Enter end index: \"))\n",
    "\n",
    "# count occurrences of the element in the specified range\n",
    "count_in_range = t[start:end].count(element)\n",
    "\n",
    "print(f\"Count of '{element}' from index {start} to {end} is:\", count_in_range)"
   ]
  },
  {
   "cell_type": "code",
   "execution_count": 9,
   "id": "a86e9d44-28cd-4027-963c-61b4c691a609",
   "metadata": {},
   "outputs": [
    {
     "name": "stdin",
     "output_type": "stream",
     "text": [
      "Enter tuple elements:  1 2 3 4 5\n"
     ]
    },
    {
     "name": "stdout",
     "output_type": "stream",
     "text": [
      "Reversed tuple: ('5', '4', '3', '2', '1')\n"
     ]
    }
   ],
   "source": [
    "#5. Reverse a tuple.\n",
    "t5 = tuple(input(\"Enter tuple elements: \").split())\n",
    "rev_tuple = t5[::-1]\n",
    "print(\"Reversed tuple:\", rev_tuple)"
   ]
  },
  {
   "cell_type": "code",
   "execution_count": 15,
   "id": "ffc22e74-bee1-4300-ab3b-fbe5ee1ca728",
   "metadata": {},
   "outputs": [
    {
     "name": "stdout",
     "output_type": "stream",
     "text": [
      "Length of each element of tuple:\n",
      "Length of 'apple': 5\n",
      "Length of 'banana': 6\n",
      "Length of 'cherry': 6\n",
      "Length of 'date': 4\n",
      "\n",
      "Trying to access a tuple index with a float:\n"
     ]
    },
    {
     "name": "stdin",
     "output_type": "stream",
     "text": [
      "Enter a floating point number as index:  1.0 2.0 3.0 4.0\n"
     ]
    },
    {
     "ename": "ValueError",
     "evalue": "could not convert string to float: '1.0 2.0 3.0 4.0'",
     "output_type": "error",
     "traceback": [
      "\u001b[1;31m---------------------------------------------------------------------------\u001b[0m",
      "\u001b[1;31mValueError\u001b[0m                                Traceback (most recent call last)",
      "Cell \u001b[1;32mIn[15], line 13\u001b[0m\n\u001b[0;32m     11\u001b[0m \u001b[38;5;28mprint\u001b[39m(\u001b[38;5;124m\"\u001b[39m\u001b[38;5;130;01m\\n\u001b[39;00m\u001b[38;5;124mTrying to access a tuple index with a float:\u001b[39m\u001b[38;5;124m\"\u001b[39m)\n\u001b[0;32m     12\u001b[0m \u001b[38;5;28;01mtry\u001b[39;00m:\n\u001b[1;32m---> 13\u001b[0m     idx \u001b[38;5;241m=\u001b[39m \u001b[38;5;28mfloat\u001b[39m(\u001b[38;5;28minput\u001b[39m(\u001b[38;5;124m\"\u001b[39m\u001b[38;5;124mEnter a floating point number as index: \u001b[39m\u001b[38;5;124m\"\u001b[39m))\n\u001b[0;32m     14\u001b[0m     \u001b[38;5;28mprint\u001b[39m(t[idx])  \n\u001b[0;32m     15\u001b[0m \u001b[38;5;28;01mexcept\u001b[39;00m \u001b[38;5;167;01mTypeError\u001b[39;00m \u001b[38;5;28;01mas\u001b[39;00m e:\n",
      "\u001b[1;31mValueError\u001b[0m: could not convert string to float: '1.0 2.0 3.0 4.0'"
     ]
    }
   ],
   "source": [
    "#6. Write a loop that traverses the previous tuple and prints the length of each element. What happens if you send an floating number in index?\n",
    "\n",
    "t = (\"apple\", \"banana\", \"cherry\", \"date\")\n",
    "\n",
    "# traverse the tuple and print the length of each element\n",
    "print(\"Length of each element of tuple:\")\n",
    "for item in t:\n",
    "    print(f\"Length of '{item}':\", len(item))\n",
    "\n",
    "# what happens if we send a floating point number as an index?\n",
    "print(\"\\nTrying to access a tuple index with a float:\")\n",
    "try:\n",
    "    idx = float(input(\"Enter a floating point number as index: \"))\n",
    "    print(t[idx])  \n",
    "except TypeError as e:\n",
    "    print(\"Error:\", e)"
   ]
  },
  {
   "cell_type": "code",
   "execution_count": null,
   "id": "00020403-2d4a-41db-aca3-55e4bc16fb3e",
   "metadata": {},
   "outputs": [],
   "source": []
  },
  {
   "cell_type": "code",
   "execution_count": null,
   "id": "6c4dd211-456c-469e-b905-62dd968f4ca7",
   "metadata": {},
   "outputs": [],
   "source": []
  }
 ],
 "metadata": {
  "kernelspec": {
   "display_name": "Python 3 (ipykernel)",
   "language": "python",
   "name": "python3"
  },
  "language_info": {
   "codemirror_mode": {
    "name": "ipython",
    "version": 3
   },
   "file_extension": ".py",
   "mimetype": "text/x-python",
   "name": "python",
   "nbconvert_exporter": "python",
   "pygments_lexer": "ipython3",
   "version": "3.11.7"
  }
 },
 "nbformat": 4,
 "nbformat_minor": 5
}
